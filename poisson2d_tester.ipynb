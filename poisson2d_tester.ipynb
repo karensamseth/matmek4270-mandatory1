{
 "cells": [
  {
   "cell_type": "code",
   "execution_count": 1,
   "id": "bbe00933",
   "metadata": {},
   "outputs": [],
   "source": [
    "import numpy as np\n",
    "import sympy as sp\n",
    "import scipy.sparse as sparse\n",
    "\n",
    "x, y = sp.symbols('x,y')\n",
    "\n",
    "class Poisson2D:\n",
    "    r\"\"\"Solve Poisson's equation in 2D::\n",
    "\n",
    "        \\nabla^2 u(x, y) = f(x, y), in [0, L]^2\n",
    "\n",
    "    where L is the length of the domain in both x and y directions.\n",
    "    Dirichlet boundary conditions are used for the entire boundary.\n",
    "    The Dirichlet values depend on the chosen manufactured solution.\n",
    "\n",
    "    \"\"\"\n"
   ]
  },
  {
   "cell_type": "code",
   "execution_count": 2,
   "id": "e0225f9c",
   "metadata": {},
   "outputs": [],
   "source": [
    "    def __init__(self, L, ue):\n",
    "        \"\"\"Initialize Poisson solver for the method of manufactured solutions\n",
    "\n",
    "        Parameters\n",
    "        ----------\n",
    "        L : number\n",
    "            The length of the domain in both x and y directions\n",
    "        ue : Sympy function\n",
    "            The analytical solution used with the method of manufactured solutions.\n",
    "            ue is used to compute the right hand side function f.\n",
    "        \"\"\"\n",
    "        self.L = L\n",
    "        self.ue = ue\n",
    "        self.f = sp.diff(self.ue, x, 2)+sp.diff(self.ue, y, 2)"
   ]
  },
  {
   "cell_type": "code",
   "execution_count": 3,
   "id": "9490aa58",
   "metadata": {},
   "outputs": [],
   "source": [
    "    def create_mesh(self, N):\n",
    "        \"\"\"Create 2D mesh and store in self.xij and self.yij\"\"\"\n",
    "        self.N = N\n",
    "        self.dx = self.L/N\n",
    "        self.dy = self.L/N\n",
    "        x = self.x = np.linspace(0, self.L, self.N+1)\n",
    "        y = self.y = np.linspace(0, self.L, self.N+1)\n",
    "        self.xij, self.yij = np.meshgrid(x,y,indexing='ij')"
   ]
  },
  {
   "cell_type": "code",
   "execution_count": 4,
   "id": "118e2424",
   "metadata": {},
   "outputs": [],
   "source": [
    "    def D2(self):\n",
    "        \"\"\"Return second order differentiation matrix\"\"\"\n",
    "        D = sparse.diags([1,-2,1], [-1,0,1], (self.N+1, self.N+1),'lil')\n",
    "        D[0, :4] = 2, -5, 4, -1\n",
    "        D[-1, -4:] = -1, 4, -5, 2\n",
    "        return D"
   ]
  },
  {
   "cell_type": "code",
   "execution_count": 5,
   "id": "98772359",
   "metadata": {},
   "outputs": [],
   "source": [
    "\n",
    "    def laplace(self):\n",
    "        \"\"\"Return vectorized Laplace operator\"\"\"\n",
    "        D2x = (1./self.dx**2)*self.D2()\n",
    "        D2y = (1./self.dy**2)*self.D2()\n",
    "        return sparse.kron(D2x, sparse.eye(self.Ny+1)) + sparse.kron(sparse.eye(self.Nx+1),  D2y)\n"
   ]
  },
  {
   "cell_type": "code",
   "execution_count": 6,
   "id": "dfe61518",
   "metadata": {},
   "outputs": [],
   "source": [
    "    def get_boundary_indices(self):\n",
    "        \"\"\"Return indices of vectorized matrix that belongs to the boundary\"\"\"\n",
    "        B = np.ones((self.N+1, self.N+1), dtype=bool) #enere\n",
    "        B[1:-1,1:-1] = 0 #null i midten\n",
    "        bnds = np.where(B.ravel() == 1)[0] #hvor enerne er i B\n",
    "        return bnds"
   ]
  },
  {
   "cell_type": "code",
   "execution_count": 7,
   "id": "c4b04316",
   "metadata": {},
   "outputs": [],
   "source": [
    "    def assemble(self,f):\n",
    "        \"\"\"Return assembled matrix A and right hand side vector b\"\"\"\n",
    "        A = self.laplace()\n",
    "        A = A.tolil()\n",
    "        bnds = self.get_boundary_indices()\n",
    "        for i in bnds:\n",
    "            A[i] = 0 #rundt kanten\n",
    "            A[i,i] = 1 #oppe til venstre og nede til høyre\n",
    "        b = sp.lambdify((self.x,self.y),f)(self.xij, self.yij)\n",
    "        b[bnds] = 0\n",
    "        return A.toscr(), b"
   ]
  },
  {
   "cell_type": "code",
   "execution_count": 8,
   "id": "91f3b4aa",
   "metadata": {},
   "outputs": [],
   "source": [
    "    def l2_error(self, u):\n",
    "        \"\"\"Return l2-error norm\"\"\"\n",
    "        uj = sp.lambdify([x,y], self.ue)(self.x, self.y) #evaluerer ue i meshpoints\n",
    "        return np.sqrt(self.dx*np.sum((uj-u)**2))  "
   ]
  },
  {
   "cell_type": "code",
   "execution_count": 9,
   "id": "9b9318d8",
   "metadata": {},
   "outputs": [],
   "source": [
    "    def __call__(self, N): #Michael\n",
    "        \"\"\"Solve Poisson's equation.\n",
    "\n",
    "        Parameters\n",
    "        ----------\n",
    "        N : int\n",
    "            The number of uniform intervals in each direction\n",
    "\n",
    "        Returns\n",
    "        -------\n",
    "        The solution as a Numpy array\n",
    "\n",
    "        \"\"\"\n",
    "        self.create_mesh(N)\n",
    "        A, b = self.assemble()\n",
    "        self.U = sparse.linalg.spsolve(A, b.flatten()).reshape((N+1, N+1))"
   ]
  },
  {
   "cell_type": "code",
   "execution_count": 10,
   "id": "9746a655",
   "metadata": {},
   "outputs": [],
   "source": [
    "    def convergence_rates(self, m=6): #Michael\n",
    "        \"\"\"Compute convergence rates for a range of discretizations\n",
    "\n",
    "        Parameters\n",
    "        ----------\n",
    "        m : int\n",
    "            The number of discretization levels to use\n",
    "\n",
    "        Returns\n",
    "        -------\n",
    "        3-tuple of arrays. The arrays represent:\n",
    "            0: the orders\n",
    "            1: the l2-errors\n",
    "            2: the mesh sizes\n",
    "        \"\"\"\n",
    "        E = []\n",
    "        h = []\n",
    "        N0 = 8\n",
    "        for m in range(m):\n",
    "            u = self(N0)\n",
    "            E.append(self.l2_error(u))\n",
    "            h.append(self.h)\n",
    "            N0 /= 2\n",
    "        r = [np.log(E[i-1]/E[i])/np.log(h[i-1]/h[i]) for i in range(1, m+1, 1)]\n",
    "        return r, np.array(E), np.array(h)"
   ]
  },
  {
   "cell_type": "code",
   "execution_count": 11,
   "id": "74573ee9",
   "metadata": {},
   "outputs": [],
   "source": [
    "    def eval(self, x_coord, y_coord):\n",
    "        \"\"\"Return u(x, y)\n",
    "\n",
    "        Parameters\n",
    "        ----------\n",
    "        x, y : numbers\n",
    "            The coordinates for evaluation\n",
    "\n",
    "        Returns\n",
    "        -------\n",
    "        The value of u(x, y)\n",
    "\n",
    "        \"\"\"\n",
    "        ix = np.where(self.x == x_coord)[0]\n",
    "        iy = np.where(self.y == y_coord)[0]\n",
    "        return self.U[ix,iy]"
   ]
  },
  {
   "cell_type": "code",
   "execution_count": 12,
   "id": "8e35c77d",
   "metadata": {},
   "outputs": [],
   "source": [
    "def test_convergence_poisson2d(): #Michael\n",
    "    # This exact solution is NOT zero on the entire boundary\n",
    "    ue = sp.exp(sp.cos(4*sp.pi*x)*sp.sin(2*sp.pi*y))\n",
    "    sol = Poisson2D(1, ue)\n",
    "    r, E, h = sol.convergence_rates()\n",
    "    assert abs(r[-1]-2) < 1e-2"
   ]
  },
  {
   "cell_type": "code",
   "execution_count": 13,
   "id": "4a14b44e",
   "metadata": {},
   "outputs": [],
   "source": [
    "def test_interpolation(): #Michael\n",
    "    ue = sp.exp(sp.cos(4*sp.pi*x)*sp.sin(2*sp.pi*y))\n",
    "    sol = Poisson2D(1, ue)\n",
    "    U = sol(100)\n",
    "    assert abs(sol.eval(0.52, 0.63) - ue.subs({x: 0.52, y: 0.63}).n()) < 1e-3\n",
    "    assert abs(sol.eval(sol.h/2, 1-sol.h/2) - ue.subs({x: sol.h, y: 1-sol.h/2}).n()) < 1e-3\n"
   ]
  },
  {
   "cell_type": "code",
   "execution_count": null,
   "id": "f04cba23",
   "metadata": {},
   "outputs": [],
   "source": [
    "if __name__ == '__main__':\n",
    "    ue = x**2\n",
    "    sol = Poisson2D(10, ue)\n",
    "    print(sol.eval(2,2))"
   ]
  },
  {
   "cell_type": "code",
   "execution_count": null,
   "id": "35b531a3",
   "metadata": {},
   "outputs": [],
   "source": []
  }
 ],
 "metadata": {
  "kernelspec": {
   "display_name": "Python 3 (ipykernel)",
   "language": "python",
   "name": "python3"
  },
  "language_info": {
   "codemirror_mode": {
    "name": "ipython",
    "version": 3
   },
   "file_extension": ".py",
   "mimetype": "text/x-python",
   "name": "python",
   "nbconvert_exporter": "python",
   "pygments_lexer": "ipython3",
   "version": "3.11.4"
  }
 },
 "nbformat": 4,
 "nbformat_minor": 5
}
